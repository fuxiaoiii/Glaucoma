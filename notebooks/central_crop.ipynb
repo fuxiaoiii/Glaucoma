{
 "cells": [
  {
   "cell_type": "code",
   "execution_count": null,
   "metadata": {
    "is_executing": true
   },
   "outputs": [],
   "source": [
    "import pandas as pd\n",
    "import torchvision.transforms as transforms\n",
    "import matplotlib.pyplot as plt\n",
    "from glob import glob\n",
    "import os\n",
    "from PIL import Image\n",
    "import cv2\n",
    "from tqdm import tqdm"
   ]
  },
  {
   "cell_type": "code",
   "execution_count": 6,
   "metadata": {
    "ExecuteTime": {
     "start_time": "2023-04-22T00:39:33.007393Z",
     "end_time": "2023-04-22T00:39:33.091992Z"
    }
   },
   "outputs": [
    {
     "data": {
      "text/plain": "      challenge_id class  referable  gradable     x1    y1     x2     y2\n0      TRAIN000000   NRG          0         0   -1.0  -1.0   -1.0   -1.0\n1      TRAIN000001   NRG          0         0  158.0  60.0  233.0  138.0\n2      TRAIN000002   NRG          0         0   -1.0  -1.0   -1.0   -1.0\n3      TRAIN000004   NRG          0         0  118.0  76.0  194.0  162.0\n4      TRAIN000006   NRG          0         0  134.0  67.0  222.0  156.0\n...            ...   ...        ...       ...    ...   ...    ...    ...\n91437  TRAIN101437   NRG          0         0   22.0  82.0   66.0  133.0\n91438  TRAIN101438   NRG          0         0  106.0  84.0  188.0  165.0\n91439  TRAIN101439   NRG          0         0  119.0  83.0  194.0  156.0\n91440  TRAIN101440   NRG          0         0   33.0  61.0  109.0  144.0\n91441  TRAIN101441   NRG          0         0  156.0  76.0  240.0  155.0\n\n[91442 rows x 8 columns]",
      "text/html": "<div>\n<style scoped>\n    .dataframe tbody tr th:only-of-type {\n        vertical-align: middle;\n    }\n\n    .dataframe tbody tr th {\n        vertical-align: top;\n    }\n\n    .dataframe thead th {\n        text-align: right;\n    }\n</style>\n<table border=\"1\" class=\"dataframe\">\n  <thead>\n    <tr style=\"text-align: right;\">\n      <th></th>\n      <th>challenge_id</th>\n      <th>class</th>\n      <th>referable</th>\n      <th>gradable</th>\n      <th>x1</th>\n      <th>y1</th>\n      <th>x2</th>\n      <th>y2</th>\n    </tr>\n  </thead>\n  <tbody>\n    <tr>\n      <th>0</th>\n      <td>TRAIN000000</td>\n      <td>NRG</td>\n      <td>0</td>\n      <td>0</td>\n      <td>-1.0</td>\n      <td>-1.0</td>\n      <td>-1.0</td>\n      <td>-1.0</td>\n    </tr>\n    <tr>\n      <th>1</th>\n      <td>TRAIN000001</td>\n      <td>NRG</td>\n      <td>0</td>\n      <td>0</td>\n      <td>158.0</td>\n      <td>60.0</td>\n      <td>233.0</td>\n      <td>138.0</td>\n    </tr>\n    <tr>\n      <th>2</th>\n      <td>TRAIN000002</td>\n      <td>NRG</td>\n      <td>0</td>\n      <td>0</td>\n      <td>-1.0</td>\n      <td>-1.0</td>\n      <td>-1.0</td>\n      <td>-1.0</td>\n    </tr>\n    <tr>\n      <th>3</th>\n      <td>TRAIN000004</td>\n      <td>NRG</td>\n      <td>0</td>\n      <td>0</td>\n      <td>118.0</td>\n      <td>76.0</td>\n      <td>194.0</td>\n      <td>162.0</td>\n    </tr>\n    <tr>\n      <th>4</th>\n      <td>TRAIN000006</td>\n      <td>NRG</td>\n      <td>0</td>\n      <td>0</td>\n      <td>134.0</td>\n      <td>67.0</td>\n      <td>222.0</td>\n      <td>156.0</td>\n    </tr>\n    <tr>\n      <th>...</th>\n      <td>...</td>\n      <td>...</td>\n      <td>...</td>\n      <td>...</td>\n      <td>...</td>\n      <td>...</td>\n      <td>...</td>\n      <td>...</td>\n    </tr>\n    <tr>\n      <th>91437</th>\n      <td>TRAIN101437</td>\n      <td>NRG</td>\n      <td>0</td>\n      <td>0</td>\n      <td>22.0</td>\n      <td>82.0</td>\n      <td>66.0</td>\n      <td>133.0</td>\n    </tr>\n    <tr>\n      <th>91438</th>\n      <td>TRAIN101438</td>\n      <td>NRG</td>\n      <td>0</td>\n      <td>0</td>\n      <td>106.0</td>\n      <td>84.0</td>\n      <td>188.0</td>\n      <td>165.0</td>\n    </tr>\n    <tr>\n      <th>91439</th>\n      <td>TRAIN101439</td>\n      <td>NRG</td>\n      <td>0</td>\n      <td>0</td>\n      <td>119.0</td>\n      <td>83.0</td>\n      <td>194.0</td>\n      <td>156.0</td>\n    </tr>\n    <tr>\n      <th>91440</th>\n      <td>TRAIN101440</td>\n      <td>NRG</td>\n      <td>0</td>\n      <td>0</td>\n      <td>33.0</td>\n      <td>61.0</td>\n      <td>109.0</td>\n      <td>144.0</td>\n    </tr>\n    <tr>\n      <th>91441</th>\n      <td>TRAIN101441</td>\n      <td>NRG</td>\n      <td>0</td>\n      <td>0</td>\n      <td>156.0</td>\n      <td>76.0</td>\n      <td>240.0</td>\n      <td>155.0</td>\n    </tr>\n  </tbody>\n</table>\n<p>91442 rows × 8 columns</p>\n</div>"
     },
     "execution_count": 6,
     "metadata": {},
     "output_type": "execute_result"
    }
   ],
   "source": [
    "df = pd.read_csv('/home/wangqy/gardnet/train_full.csv')\n",
    "df"
   ]
  },
  {
   "cell_type": "code",
   "execution_count": 7,
   "metadata": {
    "ExecuteTime": {
     "start_time": "2023-04-22T00:39:33.101631Z",
     "end_time": "2023-04-22T00:39:33.212108Z"
    }
   },
   "outputs": [
    {
     "data": {
      "text/plain": "      challenge_id class  referable  gradable   x1   y1   x2   y2\n0      TRAIN000000   NRG          0         0 -1.0 -1.0 -1.0 -1.0\n2      TRAIN000002   NRG          0         0 -1.0 -1.0 -1.0 -1.0\n15     TRAIN000017   NRG          0         0 -1.0 -1.0 -1.0 -1.0\n17     TRAIN000019   NRG          0         0 -1.0 -1.0 -1.0 -1.0\n29     TRAIN000031   NRG          0         0 -1.0 -1.0 -1.0 -1.0\n...            ...   ...        ...       ...  ...  ...  ...  ...\n91416  TRAIN101415   NRG          0         0 -1.0 -1.0 -1.0 -1.0\n91421  TRAIN101421   NRG          0         0 -1.0 -1.0 -1.0 -1.0\n91425  TRAIN101425   NRG          0         0 -1.0 -1.0 -1.0 -1.0\n91428  TRAIN101428   NRG          0         0 -1.0 -1.0 -1.0 -1.0\n91434  TRAIN101434   NRG          0         0 -1.0 -1.0 -1.0 -1.0\n\n[17505 rows x 8 columns]",
      "text/html": "<div>\n<style scoped>\n    .dataframe tbody tr th:only-of-type {\n        vertical-align: middle;\n    }\n\n    .dataframe tbody tr th {\n        vertical-align: top;\n    }\n\n    .dataframe thead th {\n        text-align: right;\n    }\n</style>\n<table border=\"1\" class=\"dataframe\">\n  <thead>\n    <tr style=\"text-align: right;\">\n      <th></th>\n      <th>challenge_id</th>\n      <th>class</th>\n      <th>referable</th>\n      <th>gradable</th>\n      <th>x1</th>\n      <th>y1</th>\n      <th>x2</th>\n      <th>y2</th>\n    </tr>\n  </thead>\n  <tbody>\n    <tr>\n      <th>0</th>\n      <td>TRAIN000000</td>\n      <td>NRG</td>\n      <td>0</td>\n      <td>0</td>\n      <td>-1.0</td>\n      <td>-1.0</td>\n      <td>-1.0</td>\n      <td>-1.0</td>\n    </tr>\n    <tr>\n      <th>2</th>\n      <td>TRAIN000002</td>\n      <td>NRG</td>\n      <td>0</td>\n      <td>0</td>\n      <td>-1.0</td>\n      <td>-1.0</td>\n      <td>-1.0</td>\n      <td>-1.0</td>\n    </tr>\n    <tr>\n      <th>15</th>\n      <td>TRAIN000017</td>\n      <td>NRG</td>\n      <td>0</td>\n      <td>0</td>\n      <td>-1.0</td>\n      <td>-1.0</td>\n      <td>-1.0</td>\n      <td>-1.0</td>\n    </tr>\n    <tr>\n      <th>17</th>\n      <td>TRAIN000019</td>\n      <td>NRG</td>\n      <td>0</td>\n      <td>0</td>\n      <td>-1.0</td>\n      <td>-1.0</td>\n      <td>-1.0</td>\n      <td>-1.0</td>\n    </tr>\n    <tr>\n      <th>29</th>\n      <td>TRAIN000031</td>\n      <td>NRG</td>\n      <td>0</td>\n      <td>0</td>\n      <td>-1.0</td>\n      <td>-1.0</td>\n      <td>-1.0</td>\n      <td>-1.0</td>\n    </tr>\n    <tr>\n      <th>...</th>\n      <td>...</td>\n      <td>...</td>\n      <td>...</td>\n      <td>...</td>\n      <td>...</td>\n      <td>...</td>\n      <td>...</td>\n      <td>...</td>\n    </tr>\n    <tr>\n      <th>91416</th>\n      <td>TRAIN101415</td>\n      <td>NRG</td>\n      <td>0</td>\n      <td>0</td>\n      <td>-1.0</td>\n      <td>-1.0</td>\n      <td>-1.0</td>\n      <td>-1.0</td>\n    </tr>\n    <tr>\n      <th>91421</th>\n      <td>TRAIN101421</td>\n      <td>NRG</td>\n      <td>0</td>\n      <td>0</td>\n      <td>-1.0</td>\n      <td>-1.0</td>\n      <td>-1.0</td>\n      <td>-1.0</td>\n    </tr>\n    <tr>\n      <th>91425</th>\n      <td>TRAIN101425</td>\n      <td>NRG</td>\n      <td>0</td>\n      <td>0</td>\n      <td>-1.0</td>\n      <td>-1.0</td>\n      <td>-1.0</td>\n      <td>-1.0</td>\n    </tr>\n    <tr>\n      <th>91428</th>\n      <td>TRAIN101428</td>\n      <td>NRG</td>\n      <td>0</td>\n      <td>0</td>\n      <td>-1.0</td>\n      <td>-1.0</td>\n      <td>-1.0</td>\n      <td>-1.0</td>\n    </tr>\n    <tr>\n      <th>91434</th>\n      <td>TRAIN101434</td>\n      <td>NRG</td>\n      <td>0</td>\n      <td>0</td>\n      <td>-1.0</td>\n      <td>-1.0</td>\n      <td>-1.0</td>\n      <td>-1.0</td>\n    </tr>\n  </tbody>\n</table>\n<p>17505 rows × 8 columns</p>\n</div>"
     },
     "execution_count": 7,
     "metadata": {},
     "output_type": "execute_result"
    }
   ],
   "source": [
    "# Select images without bounding box only\n",
    "\n",
    "df_noBox = df[df['x1'] == -1]\n",
    "df_noBox"
   ]
  },
  {
   "cell_type": "code",
   "execution_count": 8,
   "metadata": {
    "ExecuteTime": {
     "start_time": "2023-04-22T00:39:33.148511Z",
     "end_time": "2023-04-22T01:17:51.611287Z"
    }
   },
   "outputs": [
    {
     "name": "stderr",
     "output_type": "stream",
     "text": [
      "  0%|          | 0/17505 [00:00<?, ?it/s]/home/wangqy/anaconda3/envs/gardnet_envs/lib/python3.8/site-packages/torchvision/transforms/functional.py:150: UserWarning: The given NumPy array is not writable, and PyTorch does not support non-writable tensors. This means writing to this tensor will result in undefined behavior. You may want to copy the array to protect its data or make it writable before converting it to a tensor. This type of warning will be suppressed for the rest of this program. (Triggered internally at  /croot/pytorch_1675190298929/work/torch/csrc/utils/tensor_numpy.cpp:172.)\n",
      "  img = torch.from_numpy(pic.transpose((2, 0, 1))).contiguous()\n",
      "100%|██████████| 17505/17505 [38:18<00:00,  7.62it/s]\n"
     ]
    }
   ],
   "source": [
    "for img in tqdm(df_noBox['challenge_id']):\n",
    "    path = '/home/wangqy/gardnet/dataset/[0-5]/*.jpg'\n",
    "    path = glob(os.path.join(path)) [-1]\n",
    "    new_path = '/home/wangqy/gardnet/dataset/cropped_images/'\n",
    "    os.makedirs(new_path.replace(os.path.basename(new_path),''),exist_ok=True)\n",
    "    \n",
    "    im = plt.imread(path) \n",
    "    w,h,_ = im.shape\n",
    "    \n",
    "    transform = transforms.Compose([\n",
    "      transforms.ToTensor(),                            \n",
    "      transforms.CenterCrop(w*0.85),\n",
    "      transforms.Resize((512, 512))\n",
    "    ])\n",
    "\n",
    "    _img = transform(im)\n",
    "    _img = (_img.moveaxis(0, -1).numpy() * 255).astype('uint8')\n",
    "    \n",
    "    assert cv2.imwrite(f\"{new_path}{img}.jpg\", cv2.cvtColor(_img, cv2.COLOR_RGB2BGR))\n"
   ]
  }
 ],
 "metadata": {
  "interpreter": {
   "hash": "0a35368ac066db472e96c8cb9ae044ce9a84e7aa82e93512bf3e5098ca556c0f"
  },
  "kernelspec": {
   "display_name": "Python 3",
   "language": "python",
   "name": "python3"
  },
  "language_info": {
   "codemirror_mode": {
    "name": "ipython",
    "version": 3
   },
   "file_extension": ".py",
   "mimetype": "text/x-python",
   "name": "python",
   "nbconvert_exporter": "python",
   "pygments_lexer": "ipython3",
   "version": "3.9.13"
  }
 },
 "nbformat": 4,
 "nbformat_minor": 2
}
